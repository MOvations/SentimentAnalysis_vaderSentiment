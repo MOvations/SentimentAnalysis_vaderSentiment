{
 "metadata": {
  "language_info": {
   "codemirror_mode": {
    "name": "ipython",
    "version": 3
   },
   "file_extension": ".py",
   "mimetype": "text/x-python",
   "name": "python",
   "nbconvert_exporter": "python",
   "pygments_lexer": "ipython3",
   "version": "3.7.9-final"
  },
  "orig_nbformat": 2,
  "kernelspec": {
   "name": "Python 3.7.9 64-bit ('wsl': conda)",
   "display_name": "Python 3.7.9 64-bit ('wsl': conda)",
   "metadata": {
    "interpreter": {
     "hash": "0e83274d502afbebcca4c6c3c590ddf70dfc09aefbbc69b5d130dc9a6de241b9"
    }
   }
  }
 },
 "nbformat": 4,
 "nbformat_minor": 2,
 "cells": [
  {
   "source": [
    "## Playing around with vaderSentiment\n",
    "\n",
    "[GitHub: vaderSentiment](https://github.com/cjhutto/vaderSentiment)\n",
    "\n",
    "More info on the [SentimentInensityAnalyzer](https://www.geeksforgeeks.org/python-sentiment-analysis-using-vader/)\n",
    "\n",
    "Maintained? last updated 05/22/2020 (asof 20201023)\n",
    "\n",
    "for test data I will be using the Kaggle dataset: [stocknews](https://www.kaggle.com/aaron7sun/stocknews)"
   ],
   "cell_type": "markdown",
   "metadata": {}
  },
  {
   "source": [],
   "cell_type": "markdown",
   "metadata": {}
  },
  {
   "cell_type": "code",
   "execution_count": 1,
   "metadata": {},
   "outputs": [],
   "source": [
    "from vaderSentiment.vaderSentiment import SentimentIntensityAnalyzer\n",
    "import pandas as pd \n",
    "import numpy as np\n",
    "\n",
    "from textblob import TextBlob \n",
    "import re\n",
    "\n",
    "from sklearn.model_selection import train_test_split\n",
    "from sklearn.metrics import accuracy_score, classification_report\n",
    "from sklearn.discriminant_analysis import LinearDiscriminantAnalysis\n"
   ]
  },
  {
   "cell_type": "code",
   "execution_count": 2,
   "metadata": {},
   "outputs": [
    {
     "output_type": "stream",
     "name": "stdout",
     "text": [
      "         Date          Open          High           Low         Close  \\\n0  2016-07-01  17924.240234  18002.380859  17916.910156  17949.369141   \n1  2016-06-30  17712.759766  17930.609375  17711.800781  17929.990234   \n2  2016-06-29  17456.019531  17704.509766  17456.019531  17694.679688   \n3  2016-06-28  17190.509766  17409.720703  17190.509766  17409.720703   \n4  2016-06-27  17355.210938  17355.210938  17063.080078  17140.240234   \n\n      Volume     Adj Close  \n0   82160000  17949.369141  \n1  133030000  17929.990234  \n2  106380000  17694.679688  \n3  112190000  17409.720703  \n4  138740000  17140.240234  \n         Date  Label                                               Top1  \\\n0  2008-08-08      0  b\"Georgia 'downs two Russian warplanes' as cou...   \n1  2008-08-11      1  b'Why wont America and Nato help us? If they w...   \n2  2008-08-12      0  b'Remember that adorable 9-year-old who sang a...   \n3  2008-08-13      0  b' U.S. refuses Israel weapons to attack Iran:...   \n4  2008-08-14      1  b'All the experts admit that we should legalis...   \n\n                                                Top2  \\\n0            b'BREAKING: Musharraf to be impeached.'   \n1        b'Bush puts foot down on Georgian conflict'   \n2                 b\"Russia 'ends Georgia operation'\"   \n3  b\"When the president ordered to attack Tskhinv...   \n4  b'War in South Osetia - 89 pictures made by a ...   \n\n                                                Top3  \\\n0  b'Russia Today: Columns of troops roll into So...   \n1  b\"Jewish Georgian minister: Thanks to Israeli ...   \n2  b'\"If we had no sexual harassment we would hav...   \n3  b' Israel clears troops who killed Reuters cam...   \n4  b'Swedish wrestler Ara Abrahamian throws away ...   \n\n                                                Top4  \\\n0  b'Russian tanks are moving towards the capital...   \n1  b'Georgian army flees in disarray as Russians ...   \n2  b\"Al-Qa'eda is losing support in Iraq because ...   \n3  b'Britain\\'s policy of being tough on drugs is...   \n4  b'Russia exaggerated the death toll in South O...   \n\n                                                Top5  \\\n0  b\"Afghan children raped with 'impunity,' U.N. ...   \n1      b\"Olympic opening ceremony fireworks 'faked'\"   \n2  b'Ceasefire in Georgia: Putin Outmaneuvers the...   \n3  b'Body of 14 year old found in trunk; Latest (...   \n4  b'Missile That Killed 9 Inside Pakistan May Ha...   \n\n                                                Top6  \\\n0  b'150 Russian tanks have entered South Ossetia...   \n1  b'What were the Mossad with fraudulent New Zea...   \n2  b'Why Microsoft and Intel tried to kill the XO...   \n3  b'China has moved 10 *million* quake survivors...   \n4  b\"Rushdie Condemns Random House's Refusal to P...   \n\n                                                Top7  \\\n0  b\"Breaking: Georgia invades South Ossetia, Rus...   \n1  b'Russia angered by Israeli military sale to G...   \n2  b'Stratfor: The Russo-Georgian War and the Bal...   \n3  b\"Bush announces Operation Get All Up In Russi...   \n4  b'Poland and US agree to missle defense deal. ...   \n\n                                                Top8  ...  \\\n0  b\"The 'enemy combatent' trials are nothing but...  ...   \n1  b'An American citizen living in S.Ossetia blam...  ...   \n2  b\"I'm Trying to Get a Sense of This Whole Geor...  ...   \n3             b'Russian forces sink Georgian ships '  ...   \n4  b'Will the Russians conquer Tblisi? Bet on it,...  ...   \n\n                                               Top16  \\\n0  b'Georgia Invades South Ossetia - if Russia ge...   \n1  b'Israel and the US behind the Georgian aggres...   \n2  b'U.S. troops still in Georgia (did you know t...   \n3                      b'Elephants extinct by 2020?'   \n4  b'Bank analyst forecast Georgian crisis 2 days...   \n\n                                               Top17  \\\n0                b'Al-Qaeda Faces Islamist Backlash'   \n1  b'\"Do not believe TV, neither Russian nor Geor...   \n2       b'Why Russias response to Georgia was right'   \n3  b'US humanitarian missions soon in Georgia - i...   \n4  b\"Georgia confict could set back Russia's US r...   \n\n                                               Top18  \\\n0  b'Condoleezza Rice: \"The US would not act to p...   \n1  b'Riots are still going on in Montreal (Canada...   \n2  b'Gorbachev accuses U.S. of making a \"serious ...   \n3             b\"Georgia's DDOS came from US sources\"   \n4  b'War in the Caucasus is as much the product o...   \n\n                                               Top19  \\\n0  b'This is a busy day:  The European Union has ...   \n1    b'China to overtake US as largest manufacturer'   \n2         b'Russia, Georgia, and NATO: Cold War Two'   \n3  b'Russian convoy heads into Georgia, violating...   \n4  b'\"Non-media\" photos of South Ossetia/Georgia ...   \n\n                                               Top20  \\\n0  b\"Georgia will withdraw 1,000 soldiers from Ir...   \n1                     b'War in South Ossetia [PICS]'   \n2  b'Remember that adorable 62-year-old who led y...   \n3  b'Israeli defence minister: US against strike ...   \n4  b'Georgian TV reporter shot by Russian sniper ...   \n\n                                               Top21  \\\n0  b'Why the Pentagon Thinks Attacking Iran is a ...   \n1  b'Israeli Physicians Group Condemns State Tort...   \n2          b'War in Georgia: The Israeli connection'   \n3                     b'Gorbachev: We Had No Choice'   \n4  b'Saudi Arabia: Mother moves to block child ma...   \n\n                                               Top22  \\\n0  b'Caucasus in crisis: Georgia invades South Os...   \n1  b' Russia has just beaten the United States ov...   \n2  b'All signs point to the US encouraging Georgi...   \n3  b'Witness: Russian forces head towards Tbilisi...   \n4   b'Taliban wages war on humanitarian aid workers'   \n\n                                               Top23  \\\n0  b'Indian shoe manufactory  - And again in a se...   \n1  b'Perhaps *the* question about the Georgia - R...   \n2  b'Christopher King argues that the US and NATO...   \n3  b' Quarter of Russians blame U.S. for conflict...   \n4  b'Russia: World  \"can forget about\" Georgia\\'s...   \n\n                                               Top24  \\\n0  b'Visitors Suffering from Mental Illnesses Ban...   \n1                 b'Russia is so much better at war'   \n2                        b'America: The New Mexico?'   \n3  b'Georgian president  says US military will ta...   \n4  b'Darfur rebels accuse Sudan of mounting major...   \n\n                                               Top25  \n0           b\"No Help for Mexico's Kidnapping Surge\"  \n1  b\"So this is what it's come to: trading sex fo...  \n2  b\"BBC NEWS | Asia-Pacific | Extinction 'by man...  \n3  b'2006: Nobel laureate Aleksander Solzhenitsyn...  \n4  b'Philippines : Peace Advocate say Muslims nee...  \n\n[5 rows x 27 columns]\n"
     ]
    }
   ],
   "source": [
    "df_news = pd.read_csv('archive/Combined_News_DJIA.csv')\n",
    "df_dja =  pd.read_csv('archive/upload_DJIA_table.csv')\n",
    "print(df_dja.head())\n",
    "print(df_news.head())"
   ]
  },
  {
   "cell_type": "code",
   "execution_count": 3,
   "metadata": {},
   "outputs": [
    {
     "output_type": "execute_result",
     "data": {
      "text/plain": [
       "(1989, 7)"
      ]
     },
     "metadata": {},
     "execution_count": 3
    }
   ],
   "source": [
    "df_dja.shape"
   ]
  },
  {
   "cell_type": "code",
   "execution_count": 4,
   "metadata": {},
   "outputs": [
    {
     "output_type": "execute_result",
     "data": {
      "text/plain": [
       "            Date  Label                                               Top1  \\\n",
       "1988  2008-08-08      0  b\"Georgia 'downs two Russian warplanes' as cou...   \n",
       "1987  2008-08-11      1  b'Why wont America and Nato help us? If they w...   \n",
       "1986  2008-08-12      0  b'Remember that adorable 9-year-old who sang a...   \n",
       "1985  2008-08-13      0  b' U.S. refuses Israel weapons to attack Iran:...   \n",
       "1984  2008-08-14      1  b'All the experts admit that we should legalis...   \n",
       "\n",
       "                                                   Top2  \\\n",
       "1988            b'BREAKING: Musharraf to be impeached.'   \n",
       "1987        b'Bush puts foot down on Georgian conflict'   \n",
       "1986                 b\"Russia 'ends Georgia operation'\"   \n",
       "1985  b\"When the president ordered to attack Tskhinv...   \n",
       "1984  b'War in South Osetia - 89 pictures made by a ...   \n",
       "\n",
       "                                                   Top3  \\\n",
       "1988  b'Russia Today: Columns of troops roll into So...   \n",
       "1987  b\"Jewish Georgian minister: Thanks to Israeli ...   \n",
       "1986  b'\"If we had no sexual harassment we would hav...   \n",
       "1985  b' Israel clears troops who killed Reuters cam...   \n",
       "1984  b'Swedish wrestler Ara Abrahamian throws away ...   \n",
       "\n",
       "                                                   Top4  \\\n",
       "1988  b'Russian tanks are moving towards the capital...   \n",
       "1987  b'Georgian army flees in disarray as Russians ...   \n",
       "1986  b\"Al-Qa'eda is losing support in Iraq because ...   \n",
       "1985  b'Britain\\'s policy of being tough on drugs is...   \n",
       "1984  b'Russia exaggerated the death toll in South O...   \n",
       "\n",
       "                                                   Top5  \\\n",
       "1988  b\"Afghan children raped with 'impunity,' U.N. ...   \n",
       "1987      b\"Olympic opening ceremony fireworks 'faked'\"   \n",
       "1986  b'Ceasefire in Georgia: Putin Outmaneuvers the...   \n",
       "1985  b'Body of 14 year old found in trunk; Latest (...   \n",
       "1984  b'Missile That Killed 9 Inside Pakistan May Ha...   \n",
       "\n",
       "                                                   Top6  \\\n",
       "1988  b'150 Russian tanks have entered South Ossetia...   \n",
       "1987  b'What were the Mossad with fraudulent New Zea...   \n",
       "1986  b'Why Microsoft and Intel tried to kill the XO...   \n",
       "1985  b'China has moved 10 *million* quake survivors...   \n",
       "1984  b\"Rushdie Condemns Random House's Refusal to P...   \n",
       "\n",
       "                                                   Top7  \\\n",
       "1988  b\"Breaking: Georgia invades South Ossetia, Rus...   \n",
       "1987  b'Russia angered by Israeli military sale to G...   \n",
       "1986  b'Stratfor: The Russo-Georgian War and the Bal...   \n",
       "1985  b\"Bush announces Operation Get All Up In Russi...   \n",
       "1984  b'Poland and US agree to missle defense deal. ...   \n",
       "\n",
       "                                                   Top8  ...  \\\n",
       "1988  b\"The 'enemy combatent' trials are nothing but...  ...   \n",
       "1987  b'An American citizen living in S.Ossetia blam...  ...   \n",
       "1986  b\"I'm Trying to Get a Sense of This Whole Geor...  ...   \n",
       "1985             b'Russian forces sink Georgian ships '  ...   \n",
       "1984  b'Will the Russians conquer Tblisi? Bet on it,...  ...   \n",
       "\n",
       "                                                  Top22  \\\n",
       "1988  b'Caucasus in crisis: Georgia invades South Os...   \n",
       "1987  b' Russia has just beaten the United States ov...   \n",
       "1986  b'All signs point to the US encouraging Georgi...   \n",
       "1985  b'Witness: Russian forces head towards Tbilisi...   \n",
       "1984   b'Taliban wages war on humanitarian aid workers'   \n",
       "\n",
       "                                                  Top23  \\\n",
       "1988  b'Indian shoe manufactory  - And again in a se...   \n",
       "1987  b'Perhaps *the* question about the Georgia - R...   \n",
       "1986  b'Christopher King argues that the US and NATO...   \n",
       "1985  b' Quarter of Russians blame U.S. for conflict...   \n",
       "1984  b'Russia: World  \"can forget about\" Georgia\\'s...   \n",
       "\n",
       "                                                  Top24  \\\n",
       "1988  b'Visitors Suffering from Mental Illnesses Ban...   \n",
       "1987                 b'Russia is so much better at war'   \n",
       "1986                        b'America: The New Mexico?'   \n",
       "1985  b'Georgian president  says US military will ta...   \n",
       "1984  b'Darfur rebels accuse Sudan of mounting major...   \n",
       "\n",
       "                                                  Top25          Open  \\\n",
       "1988           b\"No Help for Mexico's Kidnapping Surge\"  11432.089844   \n",
       "1987  b\"So this is what it's come to: trading sex fo...  11729.669922   \n",
       "1986  b\"BBC NEWS | Asia-Pacific | Extinction 'by man...  11781.700195   \n",
       "1985  b'2006: Nobel laureate Aleksander Solzhenitsyn...  11632.809570   \n",
       "1984  b'Philippines : Peace Advocate say Muslims nee...  11532.070312   \n",
       "\n",
       "              High           Low         Close     Volume     Adj Close  \n",
       "1988  11759.959961  11388.040039  11734.320312  212830000  11734.320312  \n",
       "1987  11867.110352  11675.530273  11782.349609  183190000  11782.349609  \n",
       "1986  11782.349609  11601.519531  11642.469727  173590000  11642.469727  \n",
       "1985  11633.780273  11453.339844  11532.959961  182550000  11532.959961  \n",
       "1984  11718.280273  11450.889648  11615.929688  159790000  11615.929688  \n",
       "\n",
       "[5 rows x 33 columns]"
      ],
      "text/html": "<div>\n<style scoped>\n    .dataframe tbody tr th:only-of-type {\n        vertical-align: middle;\n    }\n\n    .dataframe tbody tr th {\n        vertical-align: top;\n    }\n\n    .dataframe thead th {\n        text-align: right;\n    }\n</style>\n<table border=\"1\" class=\"dataframe\">\n  <thead>\n    <tr style=\"text-align: right;\">\n      <th></th>\n      <th>Date</th>\n      <th>Label</th>\n      <th>Top1</th>\n      <th>Top2</th>\n      <th>Top3</th>\n      <th>Top4</th>\n      <th>Top5</th>\n      <th>Top6</th>\n      <th>Top7</th>\n      <th>Top8</th>\n      <th>...</th>\n      <th>Top22</th>\n      <th>Top23</th>\n      <th>Top24</th>\n      <th>Top25</th>\n      <th>Open</th>\n      <th>High</th>\n      <th>Low</th>\n      <th>Close</th>\n      <th>Volume</th>\n      <th>Adj Close</th>\n    </tr>\n  </thead>\n  <tbody>\n    <tr>\n      <th>1988</th>\n      <td>2008-08-08</td>\n      <td>0</td>\n      <td>b\"Georgia 'downs two Russian warplanes' as cou...</td>\n      <td>b'BREAKING: Musharraf to be impeached.'</td>\n      <td>b'Russia Today: Columns of troops roll into So...</td>\n      <td>b'Russian tanks are moving towards the capital...</td>\n      <td>b\"Afghan children raped with 'impunity,' U.N. ...</td>\n      <td>b'150 Russian tanks have entered South Ossetia...</td>\n      <td>b\"Breaking: Georgia invades South Ossetia, Rus...</td>\n      <td>b\"The 'enemy combatent' trials are nothing but...</td>\n      <td>...</td>\n      <td>b'Caucasus in crisis: Georgia invades South Os...</td>\n      <td>b'Indian shoe manufactory  - And again in a se...</td>\n      <td>b'Visitors Suffering from Mental Illnesses Ban...</td>\n      <td>b\"No Help for Mexico's Kidnapping Surge\"</td>\n      <td>11432.089844</td>\n      <td>11759.959961</td>\n      <td>11388.040039</td>\n      <td>11734.320312</td>\n      <td>212830000</td>\n      <td>11734.320312</td>\n    </tr>\n    <tr>\n      <th>1987</th>\n      <td>2008-08-11</td>\n      <td>1</td>\n      <td>b'Why wont America and Nato help us? If they w...</td>\n      <td>b'Bush puts foot down on Georgian conflict'</td>\n      <td>b\"Jewish Georgian minister: Thanks to Israeli ...</td>\n      <td>b'Georgian army flees in disarray as Russians ...</td>\n      <td>b\"Olympic opening ceremony fireworks 'faked'\"</td>\n      <td>b'What were the Mossad with fraudulent New Zea...</td>\n      <td>b'Russia angered by Israeli military sale to G...</td>\n      <td>b'An American citizen living in S.Ossetia blam...</td>\n      <td>...</td>\n      <td>b' Russia has just beaten the United States ov...</td>\n      <td>b'Perhaps *the* question about the Georgia - R...</td>\n      <td>b'Russia is so much better at war'</td>\n      <td>b\"So this is what it's come to: trading sex fo...</td>\n      <td>11729.669922</td>\n      <td>11867.110352</td>\n      <td>11675.530273</td>\n      <td>11782.349609</td>\n      <td>183190000</td>\n      <td>11782.349609</td>\n    </tr>\n    <tr>\n      <th>1986</th>\n      <td>2008-08-12</td>\n      <td>0</td>\n      <td>b'Remember that adorable 9-year-old who sang a...</td>\n      <td>b\"Russia 'ends Georgia operation'\"</td>\n      <td>b'\"If we had no sexual harassment we would hav...</td>\n      <td>b\"Al-Qa'eda is losing support in Iraq because ...</td>\n      <td>b'Ceasefire in Georgia: Putin Outmaneuvers the...</td>\n      <td>b'Why Microsoft and Intel tried to kill the XO...</td>\n      <td>b'Stratfor: The Russo-Georgian War and the Bal...</td>\n      <td>b\"I'm Trying to Get a Sense of This Whole Geor...</td>\n      <td>...</td>\n      <td>b'All signs point to the US encouraging Georgi...</td>\n      <td>b'Christopher King argues that the US and NATO...</td>\n      <td>b'America: The New Mexico?'</td>\n      <td>b\"BBC NEWS | Asia-Pacific | Extinction 'by man...</td>\n      <td>11781.700195</td>\n      <td>11782.349609</td>\n      <td>11601.519531</td>\n      <td>11642.469727</td>\n      <td>173590000</td>\n      <td>11642.469727</td>\n    </tr>\n    <tr>\n      <th>1985</th>\n      <td>2008-08-13</td>\n      <td>0</td>\n      <td>b' U.S. refuses Israel weapons to attack Iran:...</td>\n      <td>b\"When the president ordered to attack Tskhinv...</td>\n      <td>b' Israel clears troops who killed Reuters cam...</td>\n      <td>b'Britain\\'s policy of being tough on drugs is...</td>\n      <td>b'Body of 14 year old found in trunk; Latest (...</td>\n      <td>b'China has moved 10 *million* quake survivors...</td>\n      <td>b\"Bush announces Operation Get All Up In Russi...</td>\n      <td>b'Russian forces sink Georgian ships '</td>\n      <td>...</td>\n      <td>b'Witness: Russian forces head towards Tbilisi...</td>\n      <td>b' Quarter of Russians blame U.S. for conflict...</td>\n      <td>b'Georgian president  says US military will ta...</td>\n      <td>b'2006: Nobel laureate Aleksander Solzhenitsyn...</td>\n      <td>11632.809570</td>\n      <td>11633.780273</td>\n      <td>11453.339844</td>\n      <td>11532.959961</td>\n      <td>182550000</td>\n      <td>11532.959961</td>\n    </tr>\n    <tr>\n      <th>1984</th>\n      <td>2008-08-14</td>\n      <td>1</td>\n      <td>b'All the experts admit that we should legalis...</td>\n      <td>b'War in South Osetia - 89 pictures made by a ...</td>\n      <td>b'Swedish wrestler Ara Abrahamian throws away ...</td>\n      <td>b'Russia exaggerated the death toll in South O...</td>\n      <td>b'Missile That Killed 9 Inside Pakistan May Ha...</td>\n      <td>b\"Rushdie Condemns Random House's Refusal to P...</td>\n      <td>b'Poland and US agree to missle defense deal. ...</td>\n      <td>b'Will the Russians conquer Tblisi? Bet on it,...</td>\n      <td>...</td>\n      <td>b'Taliban wages war on humanitarian aid workers'</td>\n      <td>b'Russia: World  \"can forget about\" Georgia\\'s...</td>\n      <td>b'Darfur rebels accuse Sudan of mounting major...</td>\n      <td>b'Philippines : Peace Advocate say Muslims nee...</td>\n      <td>11532.070312</td>\n      <td>11718.280273</td>\n      <td>11450.889648</td>\n      <td>11615.929688</td>\n      <td>159790000</td>\n      <td>11615.929688</td>\n    </tr>\n  </tbody>\n</table>\n<p>5 rows × 33 columns</p>\n</div>"
     },
     "metadata": {},
     "execution_count": 4
    }
   ],
   "source": [
    "#Merge datasets\n",
    "df = df_news.merge(df_dja, how='inner', on='Date', left_index=True)\n",
    "df.head()"
   ]
  },
  {
   "cell_type": "code",
   "execution_count": 5,
   "metadata": {},
   "outputs": [
    {
     "output_type": "execute_result",
     "data": {
      "text/plain": [
       "            Date  Label                                               Top1  \\\n",
       "1988  2008-08-08      0  b\"Georgia 'downs two Russian warplanes' as cou...   \n",
       "1987  2008-08-11      1  b'Why wont America and Nato help us? If they w...   \n",
       "1986  2008-08-12      0  b'Remember that adorable 9-year-old who sang a...   \n",
       "1985  2008-08-13      0  b' U.S. refuses Israel weapons to attack Iran:...   \n",
       "1984  2008-08-14      1  b'All the experts admit that we should legalis...   \n",
       "\n",
       "                                                   Top2  \\\n",
       "1988            b'BREAKING: Musharraf to be impeached.'   \n",
       "1987        b'Bush puts foot down on Georgian conflict'   \n",
       "1986                 b\"Russia 'ends Georgia operation'\"   \n",
       "1985  b\"When the president ordered to attack Tskhinv...   \n",
       "1984  b'War in South Osetia - 89 pictures made by a ...   \n",
       "\n",
       "                                                   Top3  \\\n",
       "1988  b'Russia Today: Columns of troops roll into So...   \n",
       "1987  b\"Jewish Georgian minister: Thanks to Israeli ...   \n",
       "1986  b'\"If we had no sexual harassment we would hav...   \n",
       "1985  b' Israel clears troops who killed Reuters cam...   \n",
       "1984  b'Swedish wrestler Ara Abrahamian throws away ...   \n",
       "\n",
       "                                                   Top4  \\\n",
       "1988  b'Russian tanks are moving towards the capital...   \n",
       "1987  b'Georgian army flees in disarray as Russians ...   \n",
       "1986  b\"Al-Qa'eda is losing support in Iraq because ...   \n",
       "1985  b'Britain\\'s policy of being tough on drugs is...   \n",
       "1984  b'Russia exaggerated the death toll in South O...   \n",
       "\n",
       "                                                   Top5  \\\n",
       "1988  b\"Afghan children raped with 'impunity,' U.N. ...   \n",
       "1987      b\"Olympic opening ceremony fireworks 'faked'\"   \n",
       "1986  b'Ceasefire in Georgia: Putin Outmaneuvers the...   \n",
       "1985  b'Body of 14 year old found in trunk; Latest (...   \n",
       "1984  b'Missile That Killed 9 Inside Pakistan May Ha...   \n",
       "\n",
       "                                                   Top6  \\\n",
       "1988  b'150 Russian tanks have entered South Ossetia...   \n",
       "1987  b'What were the Mossad with fraudulent New Zea...   \n",
       "1986  b'Why Microsoft and Intel tried to kill the XO...   \n",
       "1985  b'China has moved 10 *million* quake survivors...   \n",
       "1984  b\"Rushdie Condemns Random House's Refusal to P...   \n",
       "\n",
       "                                                   Top7  \\\n",
       "1988  b\"Breaking: Georgia invades South Ossetia, Rus...   \n",
       "1987  b'Russia angered by Israeli military sale to G...   \n",
       "1986  b'Stratfor: The Russo-Georgian War and the Bal...   \n",
       "1985  b\"Bush announces Operation Get All Up In Russi...   \n",
       "1984  b'Poland and US agree to missle defense deal. ...   \n",
       "\n",
       "                                                   Top8  ...  \\\n",
       "1988  b\"The 'enemy combatent' trials are nothing but...  ...   \n",
       "1987  b'An American citizen living in S.Ossetia blam...  ...   \n",
       "1986  b\"I'm Trying to Get a Sense of This Whole Geor...  ...   \n",
       "1985             b'Russian forces sink Georgian ships '  ...   \n",
       "1984  b'Will the Russians conquer Tblisi? Bet on it,...  ...   \n",
       "\n",
       "                                                  Top23  \\\n",
       "1988  b'Indian shoe manufactory  - And again in a se...   \n",
       "1987  b'Perhaps *the* question about the Georgia - R...   \n",
       "1986  b'Christopher King argues that the US and NATO...   \n",
       "1985  b' Quarter of Russians blame U.S. for conflict...   \n",
       "1984  b'Russia: World  \"can forget about\" Georgia\\'s...   \n",
       "\n",
       "                                                  Top24  \\\n",
       "1988  b'Visitors Suffering from Mental Illnesses Ban...   \n",
       "1987                 b'Russia is so much better at war'   \n",
       "1986                        b'America: The New Mexico?'   \n",
       "1985  b'Georgian president  says US military will ta...   \n",
       "1984  b'Darfur rebels accuse Sudan of mounting major...   \n",
       "\n",
       "                                                  Top25          Open  \\\n",
       "1988           b\"No Help for Mexico's Kidnapping Surge\"  11432.089844   \n",
       "1987  b\"So this is what it's come to: trading sex fo...  11729.669922   \n",
       "1986  b\"BBC NEWS | Asia-Pacific | Extinction 'by man...  11781.700195   \n",
       "1985  b'2006: Nobel laureate Aleksander Solzhenitsyn...  11632.809570   \n",
       "1984  b'Philippines : Peace Advocate say Muslims nee...  11532.070312   \n",
       "\n",
       "              High           Low         Close     Volume     Adj Close  \\\n",
       "1988  11759.959961  11388.040039  11734.320312  212830000  11734.320312   \n",
       "1987  11867.110352  11675.530273  11782.349609  183190000  11782.349609   \n",
       "1986  11782.349609  11601.519531  11642.469727  173590000  11642.469727   \n",
       "1985  11633.780273  11453.339844  11532.959961  182550000  11532.959961   \n",
       "1984  11718.280273  11450.889648  11615.929688  159790000  11615.929688   \n",
       "\n",
       "                                              headlines  \n",
       "1988  b\"Georgia 'downs two Russian warplanes' as cou...  \n",
       "1987  b'Why wont America and Nato help us? If they w...  \n",
       "1986  b'Remember that adorable 9-year-old who sang a...  \n",
       "1985  b' U.S. refuses Israel weapons to attack Iran:...  \n",
       "1984  b'All the experts admit that we should legalis...  \n",
       "\n",
       "[5 rows x 34 columns]"
      ],
      "text/html": "<div>\n<style scoped>\n    .dataframe tbody tr th:only-of-type {\n        vertical-align: middle;\n    }\n\n    .dataframe tbody tr th {\n        vertical-align: top;\n    }\n\n    .dataframe thead th {\n        text-align: right;\n    }\n</style>\n<table border=\"1\" class=\"dataframe\">\n  <thead>\n    <tr style=\"text-align: right;\">\n      <th></th>\n      <th>Date</th>\n      <th>Label</th>\n      <th>Top1</th>\n      <th>Top2</th>\n      <th>Top3</th>\n      <th>Top4</th>\n      <th>Top5</th>\n      <th>Top6</th>\n      <th>Top7</th>\n      <th>Top8</th>\n      <th>...</th>\n      <th>Top23</th>\n      <th>Top24</th>\n      <th>Top25</th>\n      <th>Open</th>\n      <th>High</th>\n      <th>Low</th>\n      <th>Close</th>\n      <th>Volume</th>\n      <th>Adj Close</th>\n      <th>headlines</th>\n    </tr>\n  </thead>\n  <tbody>\n    <tr>\n      <th>1988</th>\n      <td>2008-08-08</td>\n      <td>0</td>\n      <td>b\"Georgia 'downs two Russian warplanes' as cou...</td>\n      <td>b'BREAKING: Musharraf to be impeached.'</td>\n      <td>b'Russia Today: Columns of troops roll into So...</td>\n      <td>b'Russian tanks are moving towards the capital...</td>\n      <td>b\"Afghan children raped with 'impunity,' U.N. ...</td>\n      <td>b'150 Russian tanks have entered South Ossetia...</td>\n      <td>b\"Breaking: Georgia invades South Ossetia, Rus...</td>\n      <td>b\"The 'enemy combatent' trials are nothing but...</td>\n      <td>...</td>\n      <td>b'Indian shoe manufactory  - And again in a se...</td>\n      <td>b'Visitors Suffering from Mental Illnesses Ban...</td>\n      <td>b\"No Help for Mexico's Kidnapping Surge\"</td>\n      <td>11432.089844</td>\n      <td>11759.959961</td>\n      <td>11388.040039</td>\n      <td>11734.320312</td>\n      <td>212830000</td>\n      <td>11734.320312</td>\n      <td>b\"Georgia 'downs two Russian warplanes' as cou...</td>\n    </tr>\n    <tr>\n      <th>1987</th>\n      <td>2008-08-11</td>\n      <td>1</td>\n      <td>b'Why wont America and Nato help us? If they w...</td>\n      <td>b'Bush puts foot down on Georgian conflict'</td>\n      <td>b\"Jewish Georgian minister: Thanks to Israeli ...</td>\n      <td>b'Georgian army flees in disarray as Russians ...</td>\n      <td>b\"Olympic opening ceremony fireworks 'faked'\"</td>\n      <td>b'What were the Mossad with fraudulent New Zea...</td>\n      <td>b'Russia angered by Israeli military sale to G...</td>\n      <td>b'An American citizen living in S.Ossetia blam...</td>\n      <td>...</td>\n      <td>b'Perhaps *the* question about the Georgia - R...</td>\n      <td>b'Russia is so much better at war'</td>\n      <td>b\"So this is what it's come to: trading sex fo...</td>\n      <td>11729.669922</td>\n      <td>11867.110352</td>\n      <td>11675.530273</td>\n      <td>11782.349609</td>\n      <td>183190000</td>\n      <td>11782.349609</td>\n      <td>b'Why wont America and Nato help us? If they w...</td>\n    </tr>\n    <tr>\n      <th>1986</th>\n      <td>2008-08-12</td>\n      <td>0</td>\n      <td>b'Remember that adorable 9-year-old who sang a...</td>\n      <td>b\"Russia 'ends Georgia operation'\"</td>\n      <td>b'\"If we had no sexual harassment we would hav...</td>\n      <td>b\"Al-Qa'eda is losing support in Iraq because ...</td>\n      <td>b'Ceasefire in Georgia: Putin Outmaneuvers the...</td>\n      <td>b'Why Microsoft and Intel tried to kill the XO...</td>\n      <td>b'Stratfor: The Russo-Georgian War and the Bal...</td>\n      <td>b\"I'm Trying to Get a Sense of This Whole Geor...</td>\n      <td>...</td>\n      <td>b'Christopher King argues that the US and NATO...</td>\n      <td>b'America: The New Mexico?'</td>\n      <td>b\"BBC NEWS | Asia-Pacific | Extinction 'by man...</td>\n      <td>11781.700195</td>\n      <td>11782.349609</td>\n      <td>11601.519531</td>\n      <td>11642.469727</td>\n      <td>173590000</td>\n      <td>11642.469727</td>\n      <td>b'Remember that adorable 9-year-old who sang a...</td>\n    </tr>\n    <tr>\n      <th>1985</th>\n      <td>2008-08-13</td>\n      <td>0</td>\n      <td>b' U.S. refuses Israel weapons to attack Iran:...</td>\n      <td>b\"When the president ordered to attack Tskhinv...</td>\n      <td>b' Israel clears troops who killed Reuters cam...</td>\n      <td>b'Britain\\'s policy of being tough on drugs is...</td>\n      <td>b'Body of 14 year old found in trunk; Latest (...</td>\n      <td>b'China has moved 10 *million* quake survivors...</td>\n      <td>b\"Bush announces Operation Get All Up In Russi...</td>\n      <td>b'Russian forces sink Georgian ships '</td>\n      <td>...</td>\n      <td>b' Quarter of Russians blame U.S. for conflict...</td>\n      <td>b'Georgian president  says US military will ta...</td>\n      <td>b'2006: Nobel laureate Aleksander Solzhenitsyn...</td>\n      <td>11632.809570</td>\n      <td>11633.780273</td>\n      <td>11453.339844</td>\n      <td>11532.959961</td>\n      <td>182550000</td>\n      <td>11532.959961</td>\n      <td>b' U.S. refuses Israel weapons to attack Iran:...</td>\n    </tr>\n    <tr>\n      <th>1984</th>\n      <td>2008-08-14</td>\n      <td>1</td>\n      <td>b'All the experts admit that we should legalis...</td>\n      <td>b'War in South Osetia - 89 pictures made by a ...</td>\n      <td>b'Swedish wrestler Ara Abrahamian throws away ...</td>\n      <td>b'Russia exaggerated the death toll in South O...</td>\n      <td>b'Missile That Killed 9 Inside Pakistan May Ha...</td>\n      <td>b\"Rushdie Condemns Random House's Refusal to P...</td>\n      <td>b'Poland and US agree to missle defense deal. ...</td>\n      <td>b'Will the Russians conquer Tblisi? Bet on it,...</td>\n      <td>...</td>\n      <td>b'Russia: World  \"can forget about\" Georgia\\'s...</td>\n      <td>b'Darfur rebels accuse Sudan of mounting major...</td>\n      <td>b'Philippines : Peace Advocate say Muslims nee...</td>\n      <td>11532.070312</td>\n      <td>11718.280273</td>\n      <td>11450.889648</td>\n      <td>11615.929688</td>\n      <td>159790000</td>\n      <td>11615.929688</td>\n      <td>b'All the experts admit that we should legalis...</td>\n    </tr>\n  </tbody>\n</table>\n<p>5 rows × 34 columns</p>\n</div>"
     },
     "metadata": {},
     "execution_count": 5
    }
   ],
   "source": [
    "# Aggregate all the headlines into one cell\n",
    "df['headlines'] = df.iloc[:, 2:27].astype(str).agg(' '.join, axis=1)\n",
    "df.head()"
   ]
  },
  {
   "cell_type": "code",
   "execution_count": 6,
   "metadata": {},
   "outputs": [
    {
     "output_type": "execute_result",
     "data": {
      "text/plain": [
       "'Georgia downs two Russian warplanes as countries move to brink of war BREAKING: Musharraf to be impeached. Russia Today: Columns of troops roll into South Ossetia; footage from fighting (YouTube) Russian tanks are moving towards the capital of South Ossetia, which has reportedly been completely destroyed by Georgian artillery fire Afghan children raped with impunity, U.N. official says - this is sick, a three year old was raped and they do nothing 150 Russian tanks have entered South Ossetia whilst Georgia shoots down two Russian jets. Breaking: Georgia invades South Ossetia, Russia warned it would intervene on SOs side The enemy combatent trials are nothing but a sham: Salim Haman has been sentenced to 5 1/2 years, but will be kept longer anyway just because they feel like it. Georgian troops retreat from S. Osettain capital, presumably leaving several hundred people killed. [VIDEO] Did the U.S. Prep Georgia for War with Russia? Rice Gives Green Light for Israel to Attack Iran: Says U.S. has no veto over Israeli military ops Announcing:Class Action Lawsuit on Behalf of American Public Against the FBI So---Russia and Georgia are at war and the NYTs top story is opening ceremonies of the Olympics?  What a fucking disgrace and yet further proof of the decline of journalism. China tells Bush to stay out of other countries affairs Did World War III start today? Georgia Invades South Ossetia - if Russia gets involved, will NATO absorb Georgia and unleash a full scale war? Al-Qaeda Faces Islamist Backlash Condoleezza Rice: The US would not act to prevent an Israeli strike on Iran. Israeli Defense Minister Ehud Barak: Israel is prepared for uncompromising victory in the case of military hostilities. This is a busy day:  The European Union has approved new sanctions against Iran in protest at its nuclear programme. Georgia will withdraw 1,000 soldiers from Iraq to help fight off Russian forces in Georgias breakaway region of South Ossetia Why the Pentagon Thinks Attacking Iran is a Bad Idea - US News &amp; World Report Caucasus in crisis: Georgia invades South Ossetia Indian shoe manufactory  - And again in a series of you do not like your work? Visitors Suffering from Mental Illnesses Banned from Olympics No Help for Mexicos Kidnapping Surge'"
      ]
     },
     "metadata": {},
     "execution_count": 6
    }
   ],
   "source": [
    "# Clean the headlines\n",
    "df['headlines'] =  df['headlines'].str.replace(r'b[(\")]', \"\") #remove b\"\n",
    "df['headlines'] =  df['headlines'].str.replace(r\"b[(')]\", \"\") #remove b'\n",
    "df['headlines'] =  df['headlines'].str.replace(r\"b[(\\)]\", \"\") #remove b\\\n",
    "df['headlines'] =  df['headlines'].str.replace('\\\"', \"\") #remove \\\"\n",
    "df['headlines'] =  df['headlines'].str.replace(\"\\'\", \"\") #remove \\'\n",
    "df['headlines'].iloc[0]\n"
   ]
  },
  {
   "cell_type": "code",
   "execution_count": 7,
   "metadata": {},
   "outputs": [
    {
     "output_type": "execute_result",
     "data": {
      "text/plain": [
       "'Georgia downs two Russian warplanes as countries move to brink of war BREAKING: Musharraf to be impeached. Russia Today: Columns of troops roll into South Ossetia; footage from fighting (YouTube) Russian tanks are moving towards the capital of South Ossetia, which has reportedly been completely destroyed by Georgian artillery fire Afghan children raped with impunity, U.N. official says - this is sick, a three year old was raped and they do nothing 150 Russian tanks have entered South Ossetia whilst Georgia shoots down two Russian jets. Breaking: Georgia invades South Ossetia, Russia warned it would intervene on SOs side The enemy combatent trials are nothing but a sham: Salim Haman has been sentenced to 5 1/2 years, but will be kept longer anyway just because they feel like it. Georgian troops retreat from S. Osettain capital, presumably leaving several hundred people killed. [VIDEO] Did the U.S. Prep Georgia for War with Russia? Rice Gives Green Light for Israel to Attack Iran: Says U.S. has no veto over Israeli military ops Announcing:Class Action Lawsuit on Behalf of American Public Against the FBI So---Russia and Georgia are at war and the NYTs top story is opening ceremonies of the Olympics?  What a fucking disgrace and yet further proof of the decline of journalism. China tells Bush to stay out of other countries affairs Did World War III start today? Georgia Invades South Ossetia - if Russia gets involved, will NATO absorb Georgia and unleash a full scale war? Al-Qaeda Faces Islamist Backlash Condoleezza Rice: The US would not act to prevent an Israeli strike on Iran. Israeli Defense Minister Ehud Barak: Israel is prepared for uncompromising victory in the case of military hostilities. This is a busy day:  The European Union has approved new sanctions against Iran in protest at its nuclear programme. Georgia will withdraw 1,000 soldiers from Iraq to help fight off Russian forces in Georgias breakaway region of South Ossetia Why the Pentagon Thinks Attacking Iran is a Bad Idea - US News &amp; World Report Caucasus in crisis: Georgia invades South Ossetia Indian shoe manufactory  - And again in a series of you do not like your work? Visitors Suffering from Mental Illnesses Banned from Olympics No Help for Mexicos Kidnapping Surge'"
      ]
     },
     "metadata": {},
     "execution_count": 7
    }
   ],
   "source": [
    "df['headlines'][1988]\n",
    "# looks good, moving on"
   ]
  },
  {
   "cell_type": "code",
   "execution_count": 8,
   "metadata": {},
   "outputs": [],
   "source": [
    "def getSubjectivity(text):\n",
    "    return TextBlob(text).sentiment.subjectivity\n",
    "\n",
    "def getPolarity(text):\n",
    "    return TextBlob(text).sentiment.polarity"
   ]
  },
  {
   "cell_type": "code",
   "execution_count": 9,
   "metadata": {},
   "outputs": [
    {
     "output_type": "execute_result",
     "data": {
      "text/plain": [
       "            Date  Label                                               Top1  \\\n",
       "1988  2008-08-08      0  b\"Georgia 'downs two Russian warplanes' as cou...   \n",
       "1987  2008-08-11      1  b'Why wont America and Nato help us? If they w...   \n",
       "1986  2008-08-12      0  b'Remember that adorable 9-year-old who sang a...   \n",
       "1985  2008-08-13      0  b' U.S. refuses Israel weapons to attack Iran:...   \n",
       "1984  2008-08-14      1  b'All the experts admit that we should legalis...   \n",
       "\n",
       "                                                   Top2  \\\n",
       "1988            b'BREAKING: Musharraf to be impeached.'   \n",
       "1987        b'Bush puts foot down on Georgian conflict'   \n",
       "1986                 b\"Russia 'ends Georgia operation'\"   \n",
       "1985  b\"When the president ordered to attack Tskhinv...   \n",
       "1984  b'War in South Osetia - 89 pictures made by a ...   \n",
       "\n",
       "                                                   Top3  \\\n",
       "1988  b'Russia Today: Columns of troops roll into So...   \n",
       "1987  b\"Jewish Georgian minister: Thanks to Israeli ...   \n",
       "1986  b'\"If we had no sexual harassment we would hav...   \n",
       "1985  b' Israel clears troops who killed Reuters cam...   \n",
       "1984  b'Swedish wrestler Ara Abrahamian throws away ...   \n",
       "\n",
       "                                                   Top4  \\\n",
       "1988  b'Russian tanks are moving towards the capital...   \n",
       "1987  b'Georgian army flees in disarray as Russians ...   \n",
       "1986  b\"Al-Qa'eda is losing support in Iraq because ...   \n",
       "1985  b'Britain\\'s policy of being tough on drugs is...   \n",
       "1984  b'Russia exaggerated the death toll in South O...   \n",
       "\n",
       "                                                   Top5  \\\n",
       "1988  b\"Afghan children raped with 'impunity,' U.N. ...   \n",
       "1987      b\"Olympic opening ceremony fireworks 'faked'\"   \n",
       "1986  b'Ceasefire in Georgia: Putin Outmaneuvers the...   \n",
       "1985  b'Body of 14 year old found in trunk; Latest (...   \n",
       "1984  b'Missile That Killed 9 Inside Pakistan May Ha...   \n",
       "\n",
       "                                                   Top6  \\\n",
       "1988  b'150 Russian tanks have entered South Ossetia...   \n",
       "1987  b'What were the Mossad with fraudulent New Zea...   \n",
       "1986  b'Why Microsoft and Intel tried to kill the XO...   \n",
       "1985  b'China has moved 10 *million* quake survivors...   \n",
       "1984  b\"Rushdie Condemns Random House's Refusal to P...   \n",
       "\n",
       "                                                   Top7  \\\n",
       "1988  b\"Breaking: Georgia invades South Ossetia, Rus...   \n",
       "1987  b'Russia angered by Israeli military sale to G...   \n",
       "1986  b'Stratfor: The Russo-Georgian War and the Bal...   \n",
       "1985  b\"Bush announces Operation Get All Up In Russi...   \n",
       "1984  b'Poland and US agree to missle defense deal. ...   \n",
       "\n",
       "                                                   Top8  ...  \\\n",
       "1988  b\"The 'enemy combatent' trials are nothing but...  ...   \n",
       "1987  b'An American citizen living in S.Ossetia blam...  ...   \n",
       "1986  b\"I'm Trying to Get a Sense of This Whole Geor...  ...   \n",
       "1985             b'Russian forces sink Georgian ships '  ...   \n",
       "1984  b'Will the Russians conquer Tblisi? Bet on it,...  ...   \n",
       "\n",
       "                                                  Top25          Open  \\\n",
       "1988           b\"No Help for Mexico's Kidnapping Surge\"  11432.089844   \n",
       "1987  b\"So this is what it's come to: trading sex fo...  11729.669922   \n",
       "1986  b\"BBC NEWS | Asia-Pacific | Extinction 'by man...  11781.700195   \n",
       "1985  b'2006: Nobel laureate Aleksander Solzhenitsyn...  11632.809570   \n",
       "1984  b'Philippines : Peace Advocate say Muslims nee...  11532.070312   \n",
       "\n",
       "              High           Low         Close     Volume     Adj Close  \\\n",
       "1988  11759.959961  11388.040039  11734.320312  212830000  11734.320312   \n",
       "1987  11867.110352  11675.530273  11782.349609  183190000  11782.349609   \n",
       "1986  11782.349609  11601.519531  11642.469727  173590000  11642.469727   \n",
       "1985  11633.780273  11453.339844  11532.959961  182550000  11532.959961   \n",
       "1984  11718.280273  11450.889648  11615.929688  159790000  11615.929688   \n",
       "\n",
       "                                              headlines Subjectivity Polariity  \n",
       "1988  Georgia downs two Russian warplanes as countri...     0.267549 -0.048568  \n",
       "1987  Why wont America and Nato help us? If they won...     0.374806  0.121956  \n",
       "1986  Remember that adorable 9-year-old who sang at ...     0.536234 -0.044302  \n",
       "1985   U.S. refuses Israel weapons to attack Iran: r...     0.364021  0.011398  \n",
       "1984  All the experts admit that we should legalise ...     0.375099  0.040677  \n",
       "\n",
       "[5 rows x 36 columns]"
      ],
      "text/html": "<div>\n<style scoped>\n    .dataframe tbody tr th:only-of-type {\n        vertical-align: middle;\n    }\n\n    .dataframe tbody tr th {\n        vertical-align: top;\n    }\n\n    .dataframe thead th {\n        text-align: right;\n    }\n</style>\n<table border=\"1\" class=\"dataframe\">\n  <thead>\n    <tr style=\"text-align: right;\">\n      <th></th>\n      <th>Date</th>\n      <th>Label</th>\n      <th>Top1</th>\n      <th>Top2</th>\n      <th>Top3</th>\n      <th>Top4</th>\n      <th>Top5</th>\n      <th>Top6</th>\n      <th>Top7</th>\n      <th>Top8</th>\n      <th>...</th>\n      <th>Top25</th>\n      <th>Open</th>\n      <th>High</th>\n      <th>Low</th>\n      <th>Close</th>\n      <th>Volume</th>\n      <th>Adj Close</th>\n      <th>headlines</th>\n      <th>Subjectivity</th>\n      <th>Polariity</th>\n    </tr>\n  </thead>\n  <tbody>\n    <tr>\n      <th>1988</th>\n      <td>2008-08-08</td>\n      <td>0</td>\n      <td>b\"Georgia 'downs two Russian warplanes' as cou...</td>\n      <td>b'BREAKING: Musharraf to be impeached.'</td>\n      <td>b'Russia Today: Columns of troops roll into So...</td>\n      <td>b'Russian tanks are moving towards the capital...</td>\n      <td>b\"Afghan children raped with 'impunity,' U.N. ...</td>\n      <td>b'150 Russian tanks have entered South Ossetia...</td>\n      <td>b\"Breaking: Georgia invades South Ossetia, Rus...</td>\n      <td>b\"The 'enemy combatent' trials are nothing but...</td>\n      <td>...</td>\n      <td>b\"No Help for Mexico's Kidnapping Surge\"</td>\n      <td>11432.089844</td>\n      <td>11759.959961</td>\n      <td>11388.040039</td>\n      <td>11734.320312</td>\n      <td>212830000</td>\n      <td>11734.320312</td>\n      <td>Georgia downs two Russian warplanes as countri...</td>\n      <td>0.267549</td>\n      <td>-0.048568</td>\n    </tr>\n    <tr>\n      <th>1987</th>\n      <td>2008-08-11</td>\n      <td>1</td>\n      <td>b'Why wont America and Nato help us? If they w...</td>\n      <td>b'Bush puts foot down on Georgian conflict'</td>\n      <td>b\"Jewish Georgian minister: Thanks to Israeli ...</td>\n      <td>b'Georgian army flees in disarray as Russians ...</td>\n      <td>b\"Olympic opening ceremony fireworks 'faked'\"</td>\n      <td>b'What were the Mossad with fraudulent New Zea...</td>\n      <td>b'Russia angered by Israeli military sale to G...</td>\n      <td>b'An American citizen living in S.Ossetia blam...</td>\n      <td>...</td>\n      <td>b\"So this is what it's come to: trading sex fo...</td>\n      <td>11729.669922</td>\n      <td>11867.110352</td>\n      <td>11675.530273</td>\n      <td>11782.349609</td>\n      <td>183190000</td>\n      <td>11782.349609</td>\n      <td>Why wont America and Nato help us? If they won...</td>\n      <td>0.374806</td>\n      <td>0.121956</td>\n    </tr>\n    <tr>\n      <th>1986</th>\n      <td>2008-08-12</td>\n      <td>0</td>\n      <td>b'Remember that adorable 9-year-old who sang a...</td>\n      <td>b\"Russia 'ends Georgia operation'\"</td>\n      <td>b'\"If we had no sexual harassment we would hav...</td>\n      <td>b\"Al-Qa'eda is losing support in Iraq because ...</td>\n      <td>b'Ceasefire in Georgia: Putin Outmaneuvers the...</td>\n      <td>b'Why Microsoft and Intel tried to kill the XO...</td>\n      <td>b'Stratfor: The Russo-Georgian War and the Bal...</td>\n      <td>b\"I'm Trying to Get a Sense of This Whole Geor...</td>\n      <td>...</td>\n      <td>b\"BBC NEWS | Asia-Pacific | Extinction 'by man...</td>\n      <td>11781.700195</td>\n      <td>11782.349609</td>\n      <td>11601.519531</td>\n      <td>11642.469727</td>\n      <td>173590000</td>\n      <td>11642.469727</td>\n      <td>Remember that adorable 9-year-old who sang at ...</td>\n      <td>0.536234</td>\n      <td>-0.044302</td>\n    </tr>\n    <tr>\n      <th>1985</th>\n      <td>2008-08-13</td>\n      <td>0</td>\n      <td>b' U.S. refuses Israel weapons to attack Iran:...</td>\n      <td>b\"When the president ordered to attack Tskhinv...</td>\n      <td>b' Israel clears troops who killed Reuters cam...</td>\n      <td>b'Britain\\'s policy of being tough on drugs is...</td>\n      <td>b'Body of 14 year old found in trunk; Latest (...</td>\n      <td>b'China has moved 10 *million* quake survivors...</td>\n      <td>b\"Bush announces Operation Get All Up In Russi...</td>\n      <td>b'Russian forces sink Georgian ships '</td>\n      <td>...</td>\n      <td>b'2006: Nobel laureate Aleksander Solzhenitsyn...</td>\n      <td>11632.809570</td>\n      <td>11633.780273</td>\n      <td>11453.339844</td>\n      <td>11532.959961</td>\n      <td>182550000</td>\n      <td>11532.959961</td>\n      <td>U.S. refuses Israel weapons to attack Iran: r...</td>\n      <td>0.364021</td>\n      <td>0.011398</td>\n    </tr>\n    <tr>\n      <th>1984</th>\n      <td>2008-08-14</td>\n      <td>1</td>\n      <td>b'All the experts admit that we should legalis...</td>\n      <td>b'War in South Osetia - 89 pictures made by a ...</td>\n      <td>b'Swedish wrestler Ara Abrahamian throws away ...</td>\n      <td>b'Russia exaggerated the death toll in South O...</td>\n      <td>b'Missile That Killed 9 Inside Pakistan May Ha...</td>\n      <td>b\"Rushdie Condemns Random House's Refusal to P...</td>\n      <td>b'Poland and US agree to missle defense deal. ...</td>\n      <td>b'Will the Russians conquer Tblisi? Bet on it,...</td>\n      <td>...</td>\n      <td>b'Philippines : Peace Advocate say Muslims nee...</td>\n      <td>11532.070312</td>\n      <td>11718.280273</td>\n      <td>11450.889648</td>\n      <td>11615.929688</td>\n      <td>159790000</td>\n      <td>11615.929688</td>\n      <td>All the experts admit that we should legalise ...</td>\n      <td>0.375099</td>\n      <td>0.040677</td>\n    </tr>\n  </tbody>\n</table>\n<p>5 rows × 36 columns</p>\n</div>"
     },
     "metadata": {},
     "execution_count": 9
    }
   ],
   "source": [
    "df['Subjectivity'] = df.headlines.apply(getSubjectivity)\n",
    "df['Polariity'] = df.headlines.apply(getPolarity)\n",
    "df.head()"
   ]
  },
  {
   "cell_type": "code",
   "execution_count": 10,
   "metadata": {},
   "outputs": [],
   "source": [
    "def getSentimentIntensityAnalyzer(text):\n",
    "    \"\"\"\n",
    "    \"\"\"\n",
    "    sia = SentimentIntensityAnalyzer()\n",
    "    sentiment = sia.polarity_scores(text)\n",
    "    # return sentiment.compound, sentiment.neg, sentiment.neu, sentiment.pos\n",
    "    return sentiment\n"
   ]
  },
  {
   "cell_type": "code",
   "execution_count": 11,
   "metadata": {},
   "outputs": [],
   "source": [
    "compound=[]; neg=[]; neu=[]; pos=[]\n",
    "\n",
    "for i, _ in enumerate(df.headlines):\n",
    "    SIA = getSentimentIntensityAnalyzer(df.headlines.astype(str)[i])\n",
    "    # compound, neg, neu, pos = SIA(df.headlines)\n",
    "    compound.append(SIA['compound'])\n",
    "    neg.append(SIA['neg'])\n",
    "    neu.append(SIA['neu'])\n",
    "    pos.append(SIA['pos'])\n",
    "\n",
    "# pos"
   ]
  },
  {
   "cell_type": "code",
   "execution_count": 12,
   "metadata": {},
   "outputs": [],
   "source": [
    "df['Compound'] = compound\n",
    "df['Negative'] = neg\n",
    "df['Neutral'] = neu\n",
    "df['Positive'] = pos"
   ]
  },
  {
   "cell_type": "code",
   "execution_count": 13,
   "metadata": {},
   "outputs": [
    {
     "output_type": "execute_result",
     "data": {
      "text/plain": [
       "      Label     Adj Close     Volume  Compound  Negative  Neutral  Positive\n",
       "1988      0  11734.320312  212830000   -0.9983     0.212    0.729     0.059\n",
       "1987      1  11782.349609  183190000   -0.9977     0.202    0.738     0.061\n",
       "1986      0  11642.469727  173590000   -0.9975     0.225    0.684     0.091\n",
       "1985      0  11532.959961  182550000   -0.9571     0.132    0.767     0.102\n",
       "1984      1  11615.929688  159790000   -0.9644     0.148    0.758     0.094"
      ],
      "text/html": "<div>\n<style scoped>\n    .dataframe tbody tr th:only-of-type {\n        vertical-align: middle;\n    }\n\n    .dataframe tbody tr th {\n        vertical-align: top;\n    }\n\n    .dataframe thead th {\n        text-align: right;\n    }\n</style>\n<table border=\"1\" class=\"dataframe\">\n  <thead>\n    <tr style=\"text-align: right;\">\n      <th></th>\n      <th>Label</th>\n      <th>Adj Close</th>\n      <th>Volume</th>\n      <th>Compound</th>\n      <th>Negative</th>\n      <th>Neutral</th>\n      <th>Positive</th>\n    </tr>\n  </thead>\n  <tbody>\n    <tr>\n      <th>1988</th>\n      <td>0</td>\n      <td>11734.320312</td>\n      <td>212830000</td>\n      <td>-0.9983</td>\n      <td>0.212</td>\n      <td>0.729</td>\n      <td>0.059</td>\n    </tr>\n    <tr>\n      <th>1987</th>\n      <td>1</td>\n      <td>11782.349609</td>\n      <td>183190000</td>\n      <td>-0.9977</td>\n      <td>0.202</td>\n      <td>0.738</td>\n      <td>0.061</td>\n    </tr>\n    <tr>\n      <th>1986</th>\n      <td>0</td>\n      <td>11642.469727</td>\n      <td>173590000</td>\n      <td>-0.9975</td>\n      <td>0.225</td>\n      <td>0.684</td>\n      <td>0.091</td>\n    </tr>\n    <tr>\n      <th>1985</th>\n      <td>0</td>\n      <td>11532.959961</td>\n      <td>182550000</td>\n      <td>-0.9571</td>\n      <td>0.132</td>\n      <td>0.767</td>\n      <td>0.102</td>\n    </tr>\n    <tr>\n      <th>1984</th>\n      <td>1</td>\n      <td>11615.929688</td>\n      <td>159790000</td>\n      <td>-0.9644</td>\n      <td>0.148</td>\n      <td>0.758</td>\n      <td>0.094</td>\n    </tr>\n  </tbody>\n</table>\n</div>"
     },
     "metadata": {},
     "execution_count": 13
    }
   ],
   "source": [
    "final_cols = ['Label', 'Adj Close', 'Volume', 'Compound', 'Negative', 'Neutral', 'Positive']\n",
    "df_final = df[final_cols]\n",
    "df_final.head()"
   ]
  },
  {
   "cell_type": "code",
   "execution_count": 14,
   "metadata": {},
   "outputs": [],
   "source": [
    "X_train, X_test, y_train, y_test = train_test_split(df_final.drop(['Label'], axis=1), df_final.Label, test_size=0.2, random_state=42)"
   ]
  },
  {
   "cell_type": "code",
   "execution_count": 15,
   "metadata": {},
   "outputs": [],
   "source": [
    "model = LinearDiscriminantAnalysis().fit(X_train, y_train)"
   ]
  },
  {
   "cell_type": "code",
   "execution_count": 16,
   "metadata": {},
   "outputs": [
    {
     "output_type": "execute_result",
     "data": {
      "text/plain": [
       "array([1, 1, 1, 1, 0, 1, 1, 1, 1, 1, 1, 1, 1, 1, 0, 1, 1, 1, 0, 1, 1, 1,\n",
       "       1, 1, 1, 0, 1, 1, 1, 1, 1, 1, 0, 0, 0, 0, 1, 1, 1, 1, 0, 1, 1, 1,\n",
       "       1, 1, 1, 1, 1, 1, 1, 1, 1, 1, 1, 1, 1, 0, 1, 1, 1, 1, 1, 1, 0, 1,\n",
       "       1, 1, 1, 1, 1, 1, 0, 1, 0, 1, 1, 1, 1, 1, 0, 1, 0, 1, 1, 0, 1, 1,\n",
       "       1, 0, 1, 1, 1, 1, 1, 1, 1, 0, 1, 1, 1, 1, 0, 0, 1, 1, 1, 1, 1, 1,\n",
       "       1, 1, 1, 1, 1, 1, 1, 1, 1, 1, 1, 0, 1, 0, 1, 1, 1, 1, 1, 1, 0, 1,\n",
       "       1, 1, 1, 1, 1, 1, 0, 1, 1, 1, 1, 1, 0, 1, 1, 1, 1, 1, 0, 1, 1, 1,\n",
       "       1, 1, 0, 0, 1, 1, 1, 1, 1, 1, 1, 1, 1, 0, 1, 1, 1, 1, 1, 1, 1, 1,\n",
       "       1, 1, 1, 1, 1, 1, 1, 1, 1, 1, 1, 0, 1, 1, 1, 1, 1, 0, 1, 1, 1, 1,\n",
       "       1, 0, 1, 1, 0, 1, 0, 1, 0, 1, 1, 1, 1, 1, 1, 1, 0, 1, 1, 1, 1, 1,\n",
       "       1, 1, 1, 1, 1, 1, 1, 1, 1, 1, 1, 1, 1, 1, 0, 1, 1, 0, 0, 0, 1, 1,\n",
       "       1, 1, 0, 1, 0, 1, 1, 1, 1, 1, 0, 1, 1, 1, 1, 1, 1, 1, 1, 0, 1, 1,\n",
       "       0, 0, 1, 1, 0, 1, 1, 1, 0, 1, 1, 0, 1, 1, 1, 0, 1, 0, 1, 1, 0, 0,\n",
       "       1, 1, 1, 1, 1, 1, 0, 1, 1, 1, 1, 0, 1, 1, 1, 1, 1, 1, 1, 1, 1, 1,\n",
       "       1, 1, 1, 0, 1, 1, 1, 1, 0, 1, 0, 0, 1, 1, 1, 1, 1, 1, 1, 0, 1, 1,\n",
       "       1, 1, 1, 1, 1, 1, 1, 1, 1, 1, 1, 1, 0, 1, 1, 1, 0, 1, 0, 1, 0, 1,\n",
       "       1, 1, 1, 1, 1, 1, 1, 0, 1, 1, 1, 1, 1, 1, 1, 1, 0, 1, 1, 1, 1, 0,\n",
       "       1, 1, 1, 1, 1, 0, 1, 1, 1, 1, 1, 0, 1, 1, 1, 1, 1, 1, 1, 1, 0, 1,\n",
       "       1, 1])"
      ]
     },
     "metadata": {},
     "execution_count": 16
    }
   ],
   "source": [
    "predictions = model.predict(X_test)\n",
    "predictions"
   ]
  },
  {
   "cell_type": "code",
   "execution_count": 17,
   "metadata": {},
   "outputs": [
    {
     "output_type": "stream",
     "name": "stdout",
     "text": [
      "              precision    recall  f1-score   support\n\n           0       0.41      0.17      0.24       171\n           1       0.57      0.82      0.67       227\n\n    accuracy                           0.54       398\n   macro avg       0.49      0.49      0.46       398\nweighted avg       0.50      0.54      0.49       398\n\n"
     ]
    }
   ],
   "source": [
    "print(classification_report(y_test, predictions))"
   ]
  },
  {
   "cell_type": "code",
   "execution_count": 18,
   "metadata": {},
   "outputs": [
    {
     "output_type": "stream",
     "name": "stdout",
     "text": [
      "              precision    recall  f1-score   support\n\n           0       0.87      0.79      0.83       171\n           1       0.85      0.91      0.88       227\n\n    accuracy                           0.86       398\n   macro avg       0.86      0.85      0.85       398\nweighted avg       0.86      0.86      0.86       398\n\n"
     ]
    }
   ],
   "source": [
    "final_cols = ['Label', 'Open', 'High', 'Low', 'Volume', 'Compound', 'Negative', 'Neutral', 'Positive']\n",
    "df_final = df[final_cols]\n",
    "X_train, X_test, y_train, y_test = train_test_split(df_final.drop(['Label'], axis=1), df_final.Label, test_size=0.2, random_state=42)\n",
    "model = LinearDiscriminantAnalysis().fit(X_train, y_train)\n",
    "predictions = model.predict(X_test)\n",
    "print(classification_report(y_test, predictions))"
   ]
  },
  {
   "cell_type": "code",
   "execution_count": null,
   "metadata": {},
   "outputs": [],
   "source": [
    "# appears to do much better with more of the price action data... "
   ]
  }
 ]
}